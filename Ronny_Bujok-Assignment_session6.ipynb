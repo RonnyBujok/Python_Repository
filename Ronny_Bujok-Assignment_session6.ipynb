{
 "cells": [
  {
   "cell_type": "markdown",
   "metadata": {},
   "source": [
    "# Importing everything I need"
   ]
  },
  {
   "cell_type": "code",
   "execution_count": 1,
   "metadata": {},
   "outputs": [],
   "source": [
    "import statistics\n",
    "import math\n",
    "import numpy as np\n",
    "import scipy.stats as stats\n",
    "import pandas as pd\n",
    "import matplotlib.pyplot as plt\n",
    "import seaborn as sns\n",
    "import os"
   ]
  },
  {
   "cell_type": "markdown",
   "metadata": {},
   "source": [
    "## determine path"
   ]
  },
  {
   "cell_type": "code",
   "execution_count": 9,
   "metadata": {},
   "outputs": [],
   "source": [
    "path = \"D:\\\\Documents\\\\4. PhD\\\\Courses\\\\Python\\\\session3\""
   ]
  },
  {
   "cell_type": "markdown",
   "metadata": {},
   "source": [
    "### load the results from the lexical decision task and print a summary"
   ]
  },
  {
   "cell_type": "code",
   "execution_count": 38,
   "metadata": {},
   "outputs": [
    {
     "name": "stdout",
     "output_type": "stream",
     "text": [
      "       mean_RT    std_RT\n",
      "type                    \n",
      "HF    1.059540  0.518529\n",
      "LF    1.096717  0.350253\n",
      "none  1.093136  0.341250\n"
     ]
    }
   ],
   "source": [
    "results = pd.read_csv(os.path.join(path, 'results.csv'))\n",
    "\n",
    "# adding an additional column with a subject id because otherwise I cannot run the Anova\n",
    "results['id'] = '1'\n",
    "\n",
    "#no need for a for loop because I only have one participant\n",
    "summary = results.groupby(by='type').aggregate( #multiple columns (by='id', 'condition')\n",
    "    mean_RT = pd.NamedAgg('reaction_time',np.mean),\n",
    "    std_RT = pd.NamedAgg('reaction_time',np.std)\n",
    ")\n",
    "\n",
    "print(summary)"
   ]
  },
  {
   "cell_type": "markdown",
   "metadata": {},
   "source": [
    "### plotting the results in a boxplot"
   ]
  },
  {
   "cell_type": "code",
   "execution_count": 17,
   "metadata": {},
   "outputs": [
    {
     "data": {
      "image/png": "[encoded data removed]",
      "text/plain": [
       "<Figure size 432x288 with 1 Axes>"
      ]
     },
     "metadata": {
      "needs_background": "light"
     },
     "output_type": "display_data"
    }
   ],
   "source": [
    "ax = sns.boxplot(x=\"type\", y=\"reaction_time\", data= results)"
   ]
  },
  {
   "cell_type": "code",
   "execution_count": 18,
   "metadata": {},
   "outputs": [],
   "source": [
    "import statsmodels.api as sm\n",
    "from statsmodels.stats.anova import AnovaRM"
   ]
  },
  {
   "cell_type": "markdown",
   "metadata": {},
   "source": [
    "### T-test"
   ]
  },
  {
   "cell_type": "code",
   "execution_count": 35,
   "metadata": {},
   "outputs": [
    {
     "data": {
      "text/plain": [
       "0.6853050195193318"
      ]
     },
     "execution_count": 35,
     "metadata": {},
     "output_type": "execute_result"
    }
   ],
   "source": [
    "HF = results.loc[results['type']=='HF', 'reaction_time']\n",
    "LF = results.loc[results['type']=='LF', 'reaction_time']\n",
    "\n",
    "ttest_HFLF= stats.ttest_rel(HF,LF,nan_policy='raise')\n",
    "ttest_HFLF.statistic\n",
    "ttest_HFLF.pvalue\n",
    "\n",
    "# ttest just to try it out. But I would like to have multiple comparisons (HF vs. LF vs. NW) so I will run an Anova"
   ]
  },
  {
   "cell_type": "markdown",
   "metadata": {},
   "source": [
    "### Anova for multiple comparisons"
   ]
  },
  {
   "cell_type": "code",
   "execution_count": 36,
   "metadata": {},
   "outputs": [
    {
     "name": "stdout",
     "output_type": "stream",
     "text": [
      "              Anova\n",
      "=================================\n",
      "     F Value Num DF Den DF Pr > F\n",
      "---------------------------------\n",
      "type  0.0000 2.0000 0.0000    nan\n",
      "=================================\n",
      "\n"
     ]
    },
    {
     "name": "stderr",
     "output_type": "stream",
     "text": [
      "d:\\documents\\4. phd\\courses\\python\\venv\\lib\\site-packages\\statsmodels\\stats\\anova.py:594: RuntimeWarning: divide by zero encountered in double_scalars\n",
      "  mse = ssr / df_resid\n"
     ]
    }
   ],
   "source": [
    "aov = AnovaRM(\n",
    "    results,\n",
    "    depvar='reaction_time',\n",
    "    subject= 'id',\n",
    "    within=['type'],\n",
    "    aggregate_func='mean'\n",
    ").fit()\n",
    "\n",
    "print(aov)\n",
    "\n",
    "# I don't get a proper result from the Anova but I don't fully understand why."
   ]
  },
  {
   "cell_type": "code",
   "execution_count": null,
   "metadata": {},
   "outputs": [],
   "source": []
  }
 ],
 "metadata": {
  "kernelspec": {
   "display_name": "Python 3",
   "language": "python",
   "name": "python3"
  },
  "language_info": {
   "codemirror_mode": {
    "name": "ipython",
    "version": 3
   },
   "file_extension": ".py",
   "mimetype": "text/x-python",
   "name": "python",
   "nbconvert_exporter": "python",
   "pygments_lexer": "ipython3",
   "version": "3.8.1"
  }
 },
 "nbformat": 4,
 "nbformat_minor": 4
}
